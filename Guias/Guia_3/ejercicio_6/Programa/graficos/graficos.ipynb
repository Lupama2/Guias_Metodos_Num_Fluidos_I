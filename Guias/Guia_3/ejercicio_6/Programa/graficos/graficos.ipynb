{
 "cells": [
  {
   "cell_type": "markdown",
   "metadata": {},
   "source": [
    "## Gráficos del ejercicio a entregar de la guía 3\n",
    "\n",
    "Links de interés a la hora de hacer gráficos:  \n",
    "Letras griegas y Latex  \n",
    "https://matplotlib.org/stable/tutorials/text/mathtext.html  \n",
    "Colores  \n",
    "https://matplotlib.org/stable/gallery/color/named_colors.html  \n",
    "Legend's location  \n",
    "https://stackoverflow.com/questions/4700614/how-to-put-the-legend-outside-the-plot  \n"
   ]
  },
  {
   "cell_type": "code",
   "execution_count": 1,
   "metadata": {},
   "outputs": [],
   "source": [
    "#Importo librerías\n",
    "import numpy as np\n",
    "from numpy import genfromtxt\n",
    "import matplotlib.pyplot as plt\n",
    "import matplotlib\n",
    "import math\n",
    "pi = math.pi\n"
   ]
  },
  {
   "cell_type": "markdown",
   "metadata": {},
   "source": [
    "### Divergencia"
   ]
  },
  {
   "cell_type": "code",
   "execution_count": null,
   "metadata": {},
   "outputs": [],
   "source": [
    "#Importo datos grales\n",
    "cmax = genfromtxt('datos/divergencia_cmax.csv', delimiter=',')\n",
    "#Valores máximos de c para cada inciso"
   ]
  },
  {
   "cell_type": "code",
   "execution_count": 92,
   "metadata": {},
   "outputs": [],
   "source": [
    "#Grafico\n",
    "\n",
    "\n",
    "def grafico_divergencia(Delta_x_array, Delta_t_array, matriz_divergencia, archivo):\n",
    "    #Grafico para cada M y N si la solución diverge o no.\n",
    "    #archivo: nombre del archivo donde se guarda el gráfico.\n",
    "\n",
    "    font = {'family' : 'Arial',\n",
    "            'weight' : 'normal',\n",
    "            'size'   : 14}\n",
    "    matplotlib.rc('font', **font)\n",
    "\n",
    "    #Para cada M y N grafico el elemento correspondiente en matriz_divergencia\n",
    "    for i in range(len(Delta_x_array)):\n",
    "        for j in range(len(Delta_t_array)):\n",
    "            if matriz_divergencia[i,j] == 1:\n",
    "                plt.plot(Delta_x_array[i],Delta_t_array[j],'bo', label='diverge')\n",
    "            else:\n",
    "                plt.plot(Delta_x_array[i],Delta_t_array[j],'ro', label='no diverge')\n",
    "\n",
    "    # plt.matshow(matriz_divergencia, cmap='Greys',  interpolation='nearest')\n",
    "#     plt.colorbar()\n",
    "    plt.xlabel('$\\Delta x$');\n",
    "    plt.ylabel('$\\Delta t$');\n",
    "    # plt.legend()\n",
    "    #red: no diverge\n",
    "    #blue: diverge\n",
    "\n",
    "    #Grafico la recta teórica que limitaría el estado de divergencia\n",
    "    cmax = 1\n",
    "    x_recta = Delta_x_array\n",
    "    y_recta = 1.4*Delta_x_array/cmax\n",
    "    \n",
    "    # x_recta_trans = (Delta_x_array-Delta_x_array[0])/Delta_x_array[len(Delta_x_array)-1]*len(Delta_x_array)\n",
    "    # y_recta_trans = -1.4*x_recta_trans/cmax + len(matriz_divergencia)\n",
    "    plt.plot(x_recta, y_recta, linewidth=3, color = \"tab:red\", label='teórico');\n",
    "    #Guardo la figura\n",
    "    plt.savefig(archivo, format='pdf',bbox_inches = \"tight\")\n"
   ]
  },
  {
   "cell_type": "markdown",
   "metadata": {},
   "source": [
    "#### Divergencia"
   ]
  },
  {
   "cell_type": "code",
   "execution_count": 102,
   "metadata": {},
   "outputs": [],
   "source": [
    "#Importo datos\n",
    "datos = genfromtxt('datos/divergencia_MyN_a.csv', delimiter=',')\n",
    "Delta_x_array = datos[:,0]\n",
    "Delta_t_array =datos[:,1]\n",
    "matriz_divergencia = genfromtxt('datos/divergencia_matrizbool_a.csv', delimiter=',')"
   ]
  },
  {
   "cell_type": "code",
   "execution_count": 103,
   "metadata": {},
   "outputs": [
    {
     "data": {
      "image/png": "[encoded data removed]",
      "text/plain": [
       "<Figure size 432x288 with 1 Axes>"
      ]
     },
     "metadata": {
      "needs_background": "light"
     },
     "output_type": "display_data"
    }
   ],
   "source": [
    "archivo = \"test.pdf\"\n",
    "grafico_divergencia(Delta_x_array, Delta_t_array, matriz_divergencia, archivo)"
   ]
  },
  {
   "cell_type": "code",
   "execution_count": null,
   "metadata": {},
   "outputs": [],
   "source": []
  }
 ],
 "metadata": {
  "kernelspec": {
   "display_name": "Python 3.9.12 ('Maestria')",
   "language": "python",
   "name": "python3"
  },
  "language_info": {
   "codemirror_mode": {
    "name": "ipython",
    "version": 3
   },
   "file_extension": ".py",
   "mimetype": "text/x-python",
   "name": "python",
   "nbconvert_exporter": "python",
   "pygments_lexer": "ipython3",
   "version": "3.9.12"
  },
  "orig_nbformat": 4,
  "vscode": {
   "interpreter": {
    "hash": "cb1dcd6e0b4bfbec9d527d1ab7c6c7d4b743ae11c2e9f2e62e6759bb0aaa74ae"
   }
  }
 },
 "nbformat": 4,
 "nbformat_minor": 2
}
